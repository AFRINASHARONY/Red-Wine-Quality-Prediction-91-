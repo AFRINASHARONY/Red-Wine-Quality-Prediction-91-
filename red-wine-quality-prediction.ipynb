{
 "cells": [
  {
   "cell_type": "code",
   "execution_count": 1,
   "id": "b98289a9",
   "metadata": {
    "_cell_guid": "b1076dfc-b9ad-4769-8c92-a6c4dae69d19",
    "_uuid": "8f2839f25d086af736a60e9eeb907d3b93b6e0e5",
    "execution": {
     "iopub.execute_input": "2021-08-06T22:04:40.454003Z",
     "iopub.status.busy": "2021-08-06T22:04:40.452281Z",
     "iopub.status.idle": "2021-08-06T22:04:41.434250Z",
     "shell.execute_reply": "2021-08-06T22:04:41.433606Z",
     "shell.execute_reply.started": "2021-08-06T22:04:03.528153Z"
    },
    "papermill": {
     "duration": 1.024329,
     "end_time": "2021-08-06T22:04:41.434417",
     "exception": false,
     "start_time": "2021-08-06T22:04:40.410088",
     "status": "completed"
    },
    "tags": []
   },
   "outputs": [
    {
     "name": "stdout",
     "output_type": "stream",
     "text": [
      "/kaggle/input/red-wine-quality-cortez-et-al-2009/winequality-red.csv\n"
     ]
    }
   ],
   "source": [
    "import numpy as np # linear algebra\n",
    "import pandas as pd # data processing, CSV file I/O (e.g. pd.read_csv)\n",
    "import os\n",
    "import seaborn as sns\n",
    "import matplotlib.pyplot as plt\n",
    "import missingno as msno\n",
    "for dirname, _, filenames in os.walk('/kaggle/input'):\n",
    "    for filename in filenames:\n",
    "        print(os.path.join(dirname, filename))"
   ]
  },
  {
   "cell_type": "code",
   "execution_count": 2,
   "id": "b75a8ef9",
   "metadata": {
    "execution": {
     "iopub.execute_input": "2021-08-06T22:04:41.485887Z",
     "iopub.status.busy": "2021-08-06T22:04:41.485168Z",
     "iopub.status.idle": "2021-08-06T22:04:41.530201Z",
     "shell.execute_reply": "2021-08-06T22:04:41.530695Z",
     "shell.execute_reply.started": "2021-08-06T22:04:03.541799Z"
    },
    "papermill": {
     "duration": 0.073027,
     "end_time": "2021-08-06T22:04:41.530896",
     "exception": false,
     "start_time": "2021-08-06T22:04:41.457869",
     "status": "completed"
    },
    "tags": []
   },
   "outputs": [
    {
     "data": {
      "text/html": [
       "<div>\n",
       "<style scoped>\n",
       "    .dataframe tbody tr th:only-of-type {\n",
       "        vertical-align: middle;\n",
       "    }\n",
       "\n",
       "    .dataframe tbody tr th {\n",
       "        vertical-align: top;\n",
       "    }\n",
       "\n",
       "    .dataframe thead th {\n",
       "        text-align: right;\n",
       "    }\n",
       "</style>\n",
       "<table border=\"1\" class=\"dataframe\">\n",
       "  <thead>\n",
       "    <tr style=\"text-align: right;\">\n",
       "      <th></th>\n",
       "      <th>fixed acidity</th>\n",
       "      <th>volatile acidity</th>\n",
       "      <th>citric acid</th>\n",
       "      <th>residual sugar</th>\n",
       "      <th>chlorides</th>\n",
       "      <th>free sulfur dioxide</th>\n",
       "      <th>total sulfur dioxide</th>\n",
       "      <th>density</th>\n",
       "      <th>pH</th>\n",
       "      <th>sulphates</th>\n",
       "      <th>alcohol</th>\n",
       "      <th>quality</th>\n",
       "    </tr>\n",
       "  </thead>\n",
       "  <tbody>\n",
       "    <tr>\n",
       "      <th>0</th>\n",
       "      <td>7.4</td>\n",
       "      <td>0.70</td>\n",
       "      <td>0.0</td>\n",
       "      <td>1.9</td>\n",
       "      <td>0.076</td>\n",
       "      <td>11.0</td>\n",
       "      <td>34.0</td>\n",
       "      <td>0.9978</td>\n",
       "      <td>3.51</td>\n",
       "      <td>0.56</td>\n",
       "      <td>9.4</td>\n",
       "      <td>5</td>\n",
       "    </tr>\n",
       "    <tr>\n",
       "      <th>1</th>\n",
       "      <td>7.8</td>\n",
       "      <td>0.88</td>\n",
       "      <td>0.0</td>\n",
       "      <td>2.6</td>\n",
       "      <td>0.098</td>\n",
       "      <td>25.0</td>\n",
       "      <td>67.0</td>\n",
       "      <td>0.9968</td>\n",
       "      <td>3.20</td>\n",
       "      <td>0.68</td>\n",
       "      <td>9.8</td>\n",
       "      <td>5</td>\n",
       "    </tr>\n",
       "  </tbody>\n",
       "</table>\n",
       "</div>"
      ],
      "text/plain": [
       "   fixed acidity  volatile acidity  citric acid  residual sugar  chlorides  \\\n",
       "0            7.4              0.70          0.0             1.9      0.076   \n",
       "1            7.8              0.88          0.0             2.6      0.098   \n",
       "\n",
       "   free sulfur dioxide  total sulfur dioxide  density    pH  sulphates  \\\n",
       "0                 11.0                  34.0   0.9978  3.51       0.56   \n",
       "1                 25.0                  67.0   0.9968  3.20       0.68   \n",
       "\n",
       "   alcohol  quality  \n",
       "0      9.4        5  \n",
       "1      9.8        5  "
      ]
     },
     "execution_count": 2,
     "metadata": {},
     "output_type": "execute_result"
    }
   ],
   "source": [
    "data = pd.read_csv('/kaggle/input/red-wine-quality-cortez-et-al-2009/winequality-red.csv')\n",
    "data.head(2)"
   ]
  },
  {
   "cell_type": "code",
   "execution_count": 3,
   "id": "ecfa5e75",
   "metadata": {
    "execution": {
     "iopub.execute_input": "2021-08-06T22:04:41.580879Z",
     "iopub.status.busy": "2021-08-06T22:04:41.580224Z",
     "iopub.status.idle": "2021-08-06T22:04:41.604249Z",
     "shell.execute_reply": "2021-08-06T22:04:41.604851Z",
     "shell.execute_reply.started": "2021-08-06T22:04:03.573642Z"
    },
    "papermill": {
     "duration": 0.050795,
     "end_time": "2021-08-06T22:04:41.605029",
     "exception": false,
     "start_time": "2021-08-06T22:04:41.554234",
     "status": "completed"
    },
    "tags": []
   },
   "outputs": [
    {
     "name": "stdout",
     "output_type": "stream",
     "text": [
      "<class 'pandas.core.frame.DataFrame'>\n",
      "RangeIndex: 1599 entries, 0 to 1598\n",
      "Data columns (total 12 columns):\n",
      " #   Column                Non-Null Count  Dtype  \n",
      "---  ------                --------------  -----  \n",
      " 0   fixed acidity         1599 non-null   float64\n",
      " 1   volatile acidity      1599 non-null   float64\n",
      " 2   citric acid           1599 non-null   float64\n",
      " 3   residual sugar        1599 non-null   float64\n",
      " 4   chlorides             1599 non-null   float64\n",
      " 5   free sulfur dioxide   1599 non-null   float64\n",
      " 6   total sulfur dioxide  1599 non-null   float64\n",
      " 7   density               1599 non-null   float64\n",
      " 8   pH                    1599 non-null   float64\n",
      " 9   sulphates             1599 non-null   float64\n",
      " 10  alcohol               1599 non-null   float64\n",
      " 11  quality               1599 non-null   int64  \n",
      "dtypes: float64(11), int64(1)\n",
      "memory usage: 150.0 KB\n"
     ]
    }
   ],
   "source": [
    "data.info()"
   ]
  },
  {
   "cell_type": "code",
   "execution_count": 4,
   "id": "d23f5085",
   "metadata": {
    "execution": {
     "iopub.execute_input": "2021-08-06T22:04:41.655875Z",
     "iopub.status.busy": "2021-08-06T22:04:41.654913Z",
     "iopub.status.idle": "2021-08-06T22:04:42.269750Z",
     "shell.execute_reply": "2021-08-06T22:04:42.269096Z",
     "shell.execute_reply.started": "2021-08-06T22:04:03.592737Z"
    },
    "papermill": {
     "duration": 0.641595,
     "end_time": "2021-08-06T22:04:42.269913",
     "exception": false,
     "start_time": "2021-08-06T22:04:41.628318",
     "status": "completed"
    },
    "tags": []
   },
   "outputs": [
    {
     "data": {
      "text/plain": [
       "<AxesSubplot:>"
      ]
     },
     "execution_count": 4,
     "metadata": {},
     "output_type": "execute_result"
    },
    {
     "data": {
      "image/png": "[encoded data removed]",
      "text/plain": [
       "<Figure size 1800x720 with 2 Axes>"
      ]
     },
     "metadata": {
      "needs_background": "light"
     },
     "output_type": "display_data"
    }
   ],
   "source": [
    "msno.matrix(data)"
   ]
  },
  {
   "cell_type": "code",
   "execution_count": 5,
   "id": "9194dbd7",
   "metadata": {
    "execution": {
     "iopub.execute_input": "2021-08-06T22:04:42.329453Z",
     "iopub.status.busy": "2021-08-06T22:04:42.328765Z",
     "iopub.status.idle": "2021-08-06T22:04:42.496656Z",
     "shell.execute_reply": "2021-08-06T22:04:42.496135Z",
     "shell.execute_reply.started": "2021-08-06T22:04:04.224050Z"
    },
    "papermill": {
     "duration": 0.200489,
     "end_time": "2021-08-06T22:04:42.496821",
     "exception": false,
     "start_time": "2021-08-06T22:04:42.296332",
     "status": "completed"
    },
    "tags": []
   },
   "outputs": [
    {
     "data": {
      "text/plain": [
       "<AxesSubplot:xlabel='quality', ylabel='count'>"
      ]
     },
     "execution_count": 5,
     "metadata": {},
     "output_type": "execute_result"
    },
    {
     "data": {
      "image/png": "[encoded data removed]",
      "text/plain": [
       "<Figure size 504x360 with 1 Axes>"
      ]
     },
     "metadata": {
      "needs_background": "light"
     },
     "output_type": "display_data"
    }
   ],
   "source": [
    "plt.figure(figsize=(7,5))\n",
    "sns.countplot(x= data['quality'], palette= 'muted')"
   ]
  },
  {
   "cell_type": "code",
   "execution_count": 6,
   "id": "2235270e",
   "metadata": {
    "execution": {
     "iopub.execute_input": "2021-08-06T22:04:42.555697Z",
     "iopub.status.busy": "2021-08-06T22:04:42.554690Z",
     "iopub.status.idle": "2021-08-06T22:04:42.563033Z",
     "shell.execute_reply": "2021-08-06T22:04:42.562339Z",
     "shell.execute_reply.started": "2021-08-06T22:04:04.412815Z"
    },
    "papermill": {
     "duration": 0.039436,
     "end_time": "2021-08-06T22:04:42.563179",
     "exception": false,
     "start_time": "2021-08-06T22:04:42.523743",
     "status": "completed"
    },
    "tags": []
   },
   "outputs": [
    {
     "data": {
      "text/plain": [
       "quality                 1.000000\n",
       "alcohol                 0.476166\n",
       "sulphates               0.251397\n",
       "citric acid             0.226373\n",
       "fixed acidity           0.124052\n",
       "residual sugar          0.013732\n",
       "free sulfur dioxide    -0.050656\n",
       "pH                     -0.057731\n",
       "chlorides              -0.128907\n",
       "density                -0.174919\n",
       "total sulfur dioxide   -0.185100\n",
       "volatile acidity       -0.390558\n",
       "Name: quality, dtype: float64"
      ]
     },
     "execution_count": 6,
     "metadata": {},
     "output_type": "execute_result"
    }
   ],
   "source": [
    "data.corr()['quality'].sort_values(ascending = False)"
   ]
  },
  {
   "cell_type": "code",
   "execution_count": 7,
   "id": "873e442f",
   "metadata": {
    "execution": {
     "iopub.execute_input": "2021-08-06T22:04:42.623350Z",
     "iopub.status.busy": "2021-08-06T22:04:42.622675Z",
     "iopub.status.idle": "2021-08-06T22:04:43.084183Z",
     "shell.execute_reply": "2021-08-06T22:04:43.083587Z",
     "shell.execute_reply.started": "2021-08-06T22:04:04.425122Z"
    },
    "papermill": {
     "duration": 0.494199,
     "end_time": "2021-08-06T22:04:43.084329",
     "exception": false,
     "start_time": "2021-08-06T22:04:42.590130",
     "status": "completed"
    },
    "tags": []
   },
   "outputs": [
    {
     "data": {
      "text/plain": [
       "<AxesSubplot:>"
      ]
     },
     "execution_count": 7,
     "metadata": {},
     "output_type": "execute_result"
    },
    {
     "data": {
      "image/png": "[encoded data removed]",
      "text/plain": [
       "<Figure size 720x576 with 2 Axes>"
      ]
     },
     "metadata": {
      "needs_background": "light"
     },
     "output_type": "display_data"
    }
   ],
   "source": [
    "plt.figure(figsize=(10,8))\n",
    "sns.heatmap(data.corr(),cmap='Blues',linewidth=2,linecolor= 'Black')"
   ]
  },
  {
   "cell_type": "code",
   "execution_count": 8,
   "id": "4111d27b",
   "metadata": {
    "execution": {
     "iopub.execute_input": "2021-08-06T22:04:43.178004Z",
     "iopub.status.busy": "2021-08-06T22:04:43.177223Z",
     "iopub.status.idle": "2021-08-06T22:04:44.114019Z",
     "shell.execute_reply": "2021-08-06T22:04:44.113488Z",
     "shell.execute_reply.started": "2021-08-06T22:04:04.939046Z"
    },
    "papermill": {
     "duration": 1.000336,
     "end_time": "2021-08-06T22:04:44.114173",
     "exception": false,
     "start_time": "2021-08-06T22:04:43.113837",
     "status": "completed"
    },
    "tags": []
   },
   "outputs": [
    {
     "data": {
      "image/png": "[encoded data removed]",
      "text/plain": [
       "<Figure size 936x360 with 2 Axes>"
      ]
     },
     "metadata": {
      "needs_background": "light"
     },
     "output_type": "display_data"
    }
   ],
   "source": [
    "plt.figure(figsize=(13,5))\n",
    "plt.subplot(1,2,1)\n",
    "sns.barplot(x='quality',y='fixed acidity',data=data,palette='pastel')\n",
    "plt.subplot(1,2,2)\n",
    "sns.barplot(x='quality', y='alcohol', data=data, palette='pastel')\n",
    "plt.tight_layout()"
   ]
  },
  {
   "cell_type": "code",
   "execution_count": 9,
   "id": "10c71567",
   "metadata": {
    "execution": {
     "iopub.execute_input": "2021-08-06T22:04:44.182054Z",
     "iopub.status.busy": "2021-08-06T22:04:44.181376Z",
     "iopub.status.idle": "2021-08-06T22:04:44.184626Z",
     "shell.execute_reply": "2021-08-06T22:04:44.185279Z",
     "shell.execute_reply.started": "2021-08-06T22:04:05.816613Z"
    },
    "papermill": {
     "duration": 0.041909,
     "end_time": "2021-08-06T22:04:44.185472",
     "exception": false,
     "start_time": "2021-08-06T22:04:44.143563",
     "status": "completed"
    },
    "tags": []
   },
   "outputs": [
    {
     "data": {
      "text/plain": [
       "0    1382\n",
       "1     217\n",
       "Name: quality, dtype: int64"
      ]
     },
     "execution_count": 9,
     "metadata": {},
     "output_type": "execute_result"
    }
   ],
   "source": [
    "data['quality']= [1 if i >6.5 else 0 for i in data['quality']]\n",
    "data['quality'].value_counts()"
   ]
  },
  {
   "cell_type": "code",
   "execution_count": 10,
   "id": "fa63d2b3",
   "metadata": {
    "execution": {
     "iopub.execute_input": "2021-08-06T22:04:44.249329Z",
     "iopub.status.busy": "2021-08-06T22:04:44.248327Z",
     "iopub.status.idle": "2021-08-06T22:04:44.482748Z",
     "shell.execute_reply": "2021-08-06T22:04:44.482222Z",
     "shell.execute_reply.started": "2021-08-06T22:04:05.829790Z"
    },
    "papermill": {
     "duration": 0.267725,
     "end_time": "2021-08-06T22:04:44.482915",
     "exception": false,
     "start_time": "2021-08-06T22:04:44.215190",
     "status": "completed"
    },
    "tags": []
   },
   "outputs": [
    {
     "data": {
      "text/plain": [
       "<AxesSubplot:xlabel='alcohol', ylabel='Count'>"
      ]
     },
     "execution_count": 10,
     "metadata": {},
     "output_type": "execute_result"
    },
    {
     "data": {
      "image/png": "[encoded data removed]",
      "text/plain": [
       "<Figure size 432x288 with 1 Axes>"
      ]
     },
     "metadata": {
      "needs_background": "light"
     },
     "output_type": "display_data"
    }
   ],
   "source": [
    "sns.histplot(data['alcohol'],palette= 'dark')"
   ]
  },
  {
   "cell_type": "code",
   "execution_count": 11,
   "id": "6ebf55fd",
   "metadata": {
    "execution": {
     "iopub.execute_input": "2021-08-06T22:04:44.574981Z",
     "iopub.status.busy": "2021-08-06T22:04:44.574279Z",
     "iopub.status.idle": "2021-08-06T22:04:45.003601Z",
     "shell.execute_reply": "2021-08-06T22:04:45.004156Z",
     "shell.execute_reply.started": "2021-08-06T22:04:06.083903Z"
    },
    "papermill": {
     "duration": 0.490981,
     "end_time": "2021-08-06T22:04:45.004326",
     "exception": false,
     "start_time": "2021-08-06T22:04:44.513345",
     "status": "completed"
    },
    "tags": []
   },
   "outputs": [
    {
     "data": {
      "text/plain": [
       "<AxesSubplot:xlabel='fixed acidity'>"
      ]
     },
     "execution_count": 11,
     "metadata": {},
     "output_type": "execute_result"
    },
    {
     "data": {
      "image/png": "[encoded data removed]",
      "text/plain": [
       "<Figure size 864x576 with 4 Axes>"
      ]
     },
     "metadata": {
      "needs_background": "light"
     },
     "output_type": "display_data"
    }
   ],
   "source": [
    "plt.figure(figsize=(12,8))\n",
    "plt.subplot(2,2,1)\n",
    "sns.boxplot(x=data['alcohol'])\n",
    "plt.subplot(2,2,2)\n",
    "sns.boxplot(x=data['sulphates'])\n",
    "plt.subplot(2,2,3)\n",
    "sns.boxplot(x=data['citric acid'])\n",
    "plt.subplot(2,2,4)\n",
    "sns.boxplot(x=data['fixed acidity'])"
   ]
  },
  {
   "cell_type": "code",
   "execution_count": 12,
   "id": "ea308681",
   "metadata": {
    "execution": {
     "iopub.execute_input": "2021-08-06T22:04:45.096744Z",
     "iopub.status.busy": "2021-08-06T22:04:45.093872Z",
     "iopub.status.idle": "2021-08-06T22:04:45.551516Z",
     "shell.execute_reply": "2021-08-06T22:04:45.550893Z",
     "shell.execute_reply.started": "2021-08-06T22:04:06.609037Z"
    },
    "papermill": {
     "duration": 0.514528,
     "end_time": "2021-08-06T22:04:45.551650",
     "exception": false,
     "start_time": "2021-08-06T22:04:45.037122",
     "status": "completed"
    },
    "tags": []
   },
   "outputs": [
    {
     "data": {
      "text/plain": [
       "<AxesSubplot:xlabel='chlorides'>"
      ]
     },
     "execution_count": 12,
     "metadata": {},
     "output_type": "execute_result"
    },
    {
     "data": {
      "image/png": "[encoded data removed]",
      "text/plain": [
       "<Figure size 864x576 with 4 Axes>"
      ]
     },
     "metadata": {
      "needs_background": "light"
     },
     "output_type": "display_data"
    }
   ],
   "source": [
    "plt.figure(figsize=(12,8))\n",
    "plt.subplot(2,2,1)\n",
    "sns.boxplot(x=data['volatile acidity'])\n",
    "plt.subplot(2,2,2)\n",
    "sns.boxplot(x=data['total sulfur dioxide'])\n",
    "plt.subplot(2,2,3)\n",
    "sns.boxplot(x=data['density'])\n",
    "plt.subplot(2,2,4)\n",
    "sns.boxplot(x=data['chlorides'])"
   ]
  },
  {
   "cell_type": "code",
   "execution_count": 13,
   "id": "2ff4fb39",
   "metadata": {
    "execution": {
     "iopub.execute_input": "2021-08-06T22:04:45.624255Z",
     "iopub.status.busy": "2021-08-06T22:04:45.623551Z",
     "iopub.status.idle": "2021-08-06T22:04:45.625945Z",
     "shell.execute_reply": "2021-08-06T22:04:45.626430Z",
     "shell.execute_reply.started": "2021-08-06T22:04:07.199228Z"
    },
    "papermill": {
     "duration": 0.041898,
     "end_time": "2021-08-06T22:04:45.626591",
     "exception": false,
     "start_time": "2021-08-06T22:04:45.584693",
     "status": "completed"
    },
    "tags": []
   },
   "outputs": [],
   "source": [
    "data['zscore']= ((data['citric acid'] - data['citric acid'].mean())/data['citric acid'].std())"
   ]
  },
  {
   "cell_type": "code",
   "execution_count": 14,
   "id": "90a2f747",
   "metadata": {
    "execution": {
     "iopub.execute_input": "2021-08-06T22:04:45.695666Z",
     "iopub.status.busy": "2021-08-06T22:04:45.695041Z",
     "iopub.status.idle": "2021-08-06T22:04:45.702632Z",
     "shell.execute_reply": "2021-08-06T22:04:45.702103Z",
     "shell.execute_reply.started": "2021-08-06T22:04:07.207541Z"
    },
    "papermill": {
     "duration": 0.043074,
     "end_time": "2021-08-06T22:04:45.702786",
     "exception": false,
     "start_time": "2021-08-06T22:04:45.659712",
     "status": "completed"
    },
    "tags": []
   },
   "outputs": [],
   "source": [
    "filt = np.abs(data['zscore'])<3\n",
    "data = data[filt]"
   ]
  },
  {
   "cell_type": "code",
   "execution_count": 15,
   "id": "fc73f217",
   "metadata": {
    "execution": {
     "iopub.execute_input": "2021-08-06T22:04:45.777235Z",
     "iopub.status.busy": "2021-08-06T22:04:45.776168Z",
     "iopub.status.idle": "2021-08-06T22:04:45.783207Z",
     "shell.execute_reply": "2021-08-06T22:04:45.783743Z",
     "shell.execute_reply.started": "2021-08-06T22:04:07.224189Z"
    },
    "papermill": {
     "duration": 0.048308,
     "end_time": "2021-08-06T22:04:45.783927",
     "exception": false,
     "start_time": "2021-08-06T22:04:45.735619",
     "status": "completed"
    },
    "tags": []
   },
   "outputs": [],
   "source": [
    "data['zscore2']= ((data['alcohol'] - data['alcohol'].mean())/data['alcohol'].std())\n",
    "filt = np.abs(data['zscore2'])<3\n",
    "data = data[filt]\n",
    "data['zscore3']=((data['total sulfur dioxide']-data['total sulfur dioxide'].mean())/data['total sulfur dioxide'].std())\n",
    "filt=np.abs(data['zscore3'])<3\n",
    "data=data[filt]"
   ]
  },
  {
   "cell_type": "code",
   "execution_count": 16,
   "id": "2958c4ce",
   "metadata": {
    "execution": {
     "iopub.execute_input": "2021-08-06T22:04:45.855182Z",
     "iopub.status.busy": "2021-08-06T22:04:45.854519Z",
     "iopub.status.idle": "2021-08-06T22:04:45.859983Z",
     "shell.execute_reply": "2021-08-06T22:04:45.860487Z",
     "shell.execute_reply.started": "2021-08-06T22:04:07.247045Z"
    },
    "papermill": {
     "duration": 0.04183,
     "end_time": "2021-08-06T22:04:45.860658",
     "exception": false,
     "start_time": "2021-08-06T22:04:45.818828",
     "status": "completed"
    },
    "tags": []
   },
   "outputs": [],
   "source": [
    "X= data.drop(['quality','zscore','zscore2','zscore3'], axis=1)\n",
    "y=data['quality']"
   ]
  },
  {
   "cell_type": "code",
   "execution_count": 17,
   "id": "4875f025",
   "metadata": {
    "execution": {
     "iopub.execute_input": "2021-08-06T22:04:45.930349Z",
     "iopub.status.busy": "2021-08-06T22:04:45.929638Z",
     "iopub.status.idle": "2021-08-06T22:04:46.100680Z",
     "shell.execute_reply": "2021-08-06T22:04:46.100068Z",
     "shell.execute_reply.started": "2021-08-06T22:04:07.256057Z"
    },
    "papermill": {
     "duration": 0.207083,
     "end_time": "2021-08-06T22:04:46.100842",
     "exception": false,
     "start_time": "2021-08-06T22:04:45.893759",
     "status": "completed"
    },
    "tags": []
   },
   "outputs": [],
   "source": [
    "from sklearn.model_selection import train_test_split\n",
    "X_train, X_test, y_train, y_test = train_test_split(X, y, test_size= 0.20, random_state= 41)"
   ]
  },
  {
   "cell_type": "code",
   "execution_count": 18,
   "id": "9cb3761c",
   "metadata": {
    "execution": {
     "iopub.execute_input": "2021-08-06T22:04:46.175490Z",
     "iopub.status.busy": "2021-08-06T22:04:46.174428Z",
     "iopub.status.idle": "2021-08-06T22:04:46.184443Z",
     "shell.execute_reply": "2021-08-06T22:04:46.183877Z",
     "shell.execute_reply.started": "2021-08-06T22:04:07.272685Z"
    },
    "papermill": {
     "duration": 0.050722,
     "end_time": "2021-08-06T22:04:46.184576",
     "exception": false,
     "start_time": "2021-08-06T22:04:46.133854",
     "status": "completed"
    },
    "tags": []
   },
   "outputs": [],
   "source": [
    "from sklearn.preprocessing import StandardScaler\n",
    "scaling = StandardScaler()\n",
    "x_train = scaling.fit_transform(X_train)\n",
    "x_test = scaling.fit_transform(X_test)\n"
   ]
  },
  {
   "cell_type": "code",
   "execution_count": 19,
   "id": "e269b4f9",
   "metadata": {
    "execution": {
     "iopub.execute_input": "2021-08-06T22:04:46.255597Z",
     "iopub.status.busy": "2021-08-06T22:04:46.254838Z",
     "iopub.status.idle": "2021-08-06T22:04:46.411148Z",
     "shell.execute_reply": "2021-08-06T22:04:46.410526Z",
     "shell.execute_reply.started": "2021-08-06T22:04:07.294559Z"
    },
    "papermill": {
     "duration": 0.193639,
     "end_time": "2021-08-06T22:04:46.411291",
     "exception": false,
     "start_time": "2021-08-06T22:04:46.217652",
     "status": "completed"
    },
    "tags": []
   },
   "outputs": [],
   "source": [
    "from sklearn.linear_model import LogisticRegression\n",
    "from sklearn import tree\n",
    "from sklearn.svm import SVC\n",
    "from sklearn.neighbors import KNeighborsClassifier"
   ]
  },
  {
   "cell_type": "markdown",
   "id": "e56a7c26",
   "metadata": {
    "papermill": {
     "duration": 0.032624,
     "end_time": "2021-08-06T22:04:46.476921",
     "exception": false,
     "start_time": "2021-08-06T22:04:46.444297",
     "status": "completed"
    },
    "tags": []
   },
   "source": [
    "**Logistic Regression**"
   ]
  },
  {
   "cell_type": "code",
   "execution_count": 20,
   "id": "c0b00446",
   "metadata": {
    "execution": {
     "iopub.execute_input": "2021-08-06T22:04:46.553154Z",
     "iopub.status.busy": "2021-08-06T22:04:46.552001Z",
     "iopub.status.idle": "2021-08-06T22:04:46.690944Z",
     "shell.execute_reply": "2021-08-06T22:04:46.692311Z",
     "shell.execute_reply.started": "2021-08-06T22:04:07.300706Z"
    },
    "papermill": {
     "duration": 0.182529,
     "end_time": "2021-08-06T22:04:46.692582",
     "exception": false,
     "start_time": "2021-08-06T22:04:46.510053",
     "status": "completed"
    },
    "tags": []
   },
   "outputs": [
    {
     "data": {
      "text/plain": [
       "0.8984126984126984"
      ]
     },
     "execution_count": 20,
     "metadata": {},
     "output_type": "execute_result"
    }
   ],
   "source": [
    "model = LogisticRegression()\n",
    "model.fit(x_train,y_train)\n",
    "model.score(x_test,y_test)"
   ]
  },
  {
   "cell_type": "markdown",
   "id": "afbb2c53",
   "metadata": {
    "papermill": {
     "duration": 0.055846,
     "end_time": "2021-08-06T22:04:46.808190",
     "exception": false,
     "start_time": "2021-08-06T22:04:46.752344",
     "status": "completed"
    },
    "tags": []
   },
   "source": [
    "**Decision Tree Classifier**"
   ]
  },
  {
   "cell_type": "code",
   "execution_count": 21,
   "id": "2b65d15c",
   "metadata": {
    "execution": {
     "iopub.execute_input": "2021-08-06T22:04:46.881721Z",
     "iopub.status.busy": "2021-08-06T22:04:46.880825Z",
     "iopub.status.idle": "2021-08-06T22:04:46.894608Z",
     "shell.execute_reply": "2021-08-06T22:04:46.894068Z",
     "shell.execute_reply.started": "2021-08-06T22:04:07.338557Z"
    },
    "papermill": {
     "duration": 0.052922,
     "end_time": "2021-08-06T22:04:46.894742",
     "exception": false,
     "start_time": "2021-08-06T22:04:46.841820",
     "status": "completed"
    },
    "tags": []
   },
   "outputs": [
    {
     "data": {
      "text/plain": [
       "0.8539682539682539"
      ]
     },
     "execution_count": 21,
     "metadata": {},
     "output_type": "execute_result"
    }
   ],
   "source": [
    "model = tree.DecisionTreeClassifier()\n",
    "model.fit(x_train,y_train)\n",
    "model.score(x_test,y_test)"
   ]
  },
  {
   "cell_type": "markdown",
   "id": "a38b4471",
   "metadata": {
    "papermill": {
     "duration": 0.033371,
     "end_time": "2021-08-06T22:04:46.961963",
     "exception": false,
     "start_time": "2021-08-06T22:04:46.928592",
     "status": "completed"
    },
    "tags": []
   },
   "source": [
    "**SVC**"
   ]
  },
  {
   "cell_type": "code",
   "execution_count": 22,
   "id": "8e87b397",
   "metadata": {
    "execution": {
     "iopub.execute_input": "2021-08-06T22:04:47.035468Z",
     "iopub.status.busy": "2021-08-06T22:04:47.034684Z",
     "iopub.status.idle": "2021-08-06T22:04:47.074209Z",
     "shell.execute_reply": "2021-08-06T22:04:47.073645Z",
     "shell.execute_reply.started": "2021-08-06T22:04:07.365439Z"
    },
    "papermill": {
     "duration": 0.0791,
     "end_time": "2021-08-06T22:04:47.074347",
     "exception": false,
     "start_time": "2021-08-06T22:04:46.995247",
     "status": "completed"
    },
    "tags": []
   },
   "outputs": [
    {
     "data": {
      "text/plain": [
       "0.9079365079365079"
      ]
     },
     "execution_count": 22,
     "metadata": {},
     "output_type": "execute_result"
    }
   ],
   "source": [
    "model = SVC()\n",
    "model.fit(x_train,y_train)\n",
    "model.score(x_test,y_test)"
   ]
  },
  {
   "cell_type": "markdown",
   "id": "31f84e60",
   "metadata": {
    "papermill": {
     "duration": 0.034579,
     "end_time": "2021-08-06T22:04:47.143117",
     "exception": false,
     "start_time": "2021-08-06T22:04:47.108538",
     "status": "completed"
    },
    "tags": []
   },
   "source": [
    "**KNN**"
   ]
  },
  {
   "cell_type": "code",
   "execution_count": 23,
   "id": "7b7a43c2",
   "metadata": {
    "execution": {
     "iopub.execute_input": "2021-08-06T22:04:47.218514Z",
     "iopub.status.busy": "2021-08-06T22:04:47.216666Z",
     "iopub.status.idle": "2021-08-06T22:04:48.311754Z",
     "shell.execute_reply": "2021-08-06T22:04:48.311073Z",
     "shell.execute_reply.started": "2021-08-06T22:04:07.435381Z"
    },
    "papermill": {
     "duration": 1.134928,
     "end_time": "2021-08-06T22:04:48.311983",
     "exception": false,
     "start_time": "2021-08-06T22:04:47.177055",
     "status": "completed"
    },
    "tags": []
   },
   "outputs": [
    {
     "name": "stdout",
     "output_type": "stream",
     "text": [
      "1.892063492063492\n",
      "2.895238095238095\n",
      "3.907936507936508\n",
      "4.898412698412699\n",
      "5.898412698412699\n",
      "6.8920634920634924\n",
      "7.901587301587302\n",
      "8.911111111111111\n",
      "9.907936507936508\n",
      "10.904761904761905\n",
      "11.907936507936508\n",
      "12.898412698412699\n",
      "13.901587301587302\n",
      "14.901587301587302\n",
      "15.904761904761905\n",
      "16.901587301587302\n",
      "17.901587301587302\n",
      "18.8984126984127\n",
      "19.892063492063492\n",
      "20.88888888888889\n",
      "21.892063492063492\n",
      "22.88888888888889\n",
      "23.892063492063492\n",
      "24.895238095238096\n",
      "25.88888888888889\n",
      "26.892063492063492\n",
      "27.88888888888889\n",
      "28.892063492063492\n",
      "29.892063492063492\n",
      "30.892063492063492\n",
      "31.892063492063492\n",
      "32.888888888888886\n",
      "33.89206349206349\n",
      "34.888888888888886\n",
      "35.89206349206349\n",
      "36.89206349206349\n",
      "37.8984126984127\n",
      "38.89523809523809\n",
      "39.89523809523809\n"
     ]
    }
   ],
   "source": [
    "for i in range(1,40):\n",
    "    model=KNeighborsClassifier( n_neighbors=i,metric='manhattan')\n",
    "    model.fit(x_train,y_train)\n",
    "    print(i+model.score(x_test,y_test))"
   ]
  },
  {
   "cell_type": "code",
   "execution_count": 24,
   "id": "a0cbce63",
   "metadata": {
    "execution": {
     "iopub.execute_input": "2021-08-06T22:04:48.393330Z",
     "iopub.status.busy": "2021-08-06T22:04:48.390558Z",
     "iopub.status.idle": "2021-08-06T22:04:48.422021Z",
     "shell.execute_reply": "2021-08-06T22:04:48.421360Z",
     "shell.execute_reply.started": "2021-08-06T22:04:08.535411Z"
    },
    "papermill": {
     "duration": 0.074333,
     "end_time": "2021-08-06T22:04:48.422162",
     "exception": false,
     "start_time": "2021-08-06T22:04:48.347829",
     "status": "completed"
    },
    "tags": []
   },
   "outputs": [
    {
     "data": {
      "text/plain": [
       "0.9111111111111111"
      ]
     },
     "execution_count": 24,
     "metadata": {},
     "output_type": "execute_result"
    }
   ],
   "source": [
    "model=KNeighborsClassifier( n_neighbors=8,metric='manhattan')\n",
    "model.fit(x_train,y_train)\n",
    "model.score(x_test,y_test)"
   ]
  },
  {
   "cell_type": "markdown",
   "id": "639ab4d8",
   "metadata": {
    "papermill": {
     "duration": 0.035717,
     "end_time": "2021-08-06T22:04:48.494317",
     "exception": false,
     "start_time": "2021-08-06T22:04:48.458600",
     "status": "completed"
    },
    "tags": []
   },
   "source": [
    "KNN has the highest accuracy"
   ]
  },
  {
   "cell_type": "code",
   "execution_count": null,
   "id": "b324bc59",
   "metadata": {
    "papermill": {
     "duration": 0.035617,
     "end_time": "2021-08-06T22:04:48.566077",
     "exception": false,
     "start_time": "2021-08-06T22:04:48.530460",
     "status": "completed"
    },
    "tags": []
   },
   "outputs": [],
   "source": []
  }
 ],
 "metadata": {
  "kernelspec": {
   "display_name": "Python 3",
   "language": "python",
   "name": "python3"
  },
  "language_info": {
   "codemirror_mode": {
    "name": "ipython",
    "version": 3
   },
   "file_extension": ".py",
   "mimetype": "text/x-python",
   "name": "python",
   "nbconvert_exporter": "python",
   "pygments_lexer": "ipython3",
   "version": "3.7.10"
  },
  "papermill": {
   "default_parameters": {},
   "duration": 17.714536,
   "end_time": "2021-08-06T22:04:50.377376",
   "environment_variables": {},
   "exception": null,
   "input_path": "__notebook__.ipynb",
   "output_path": "__notebook__.ipynb",
   "parameters": {},
   "start_time": "2021-08-06T22:04:32.662840",
   "version": "2.3.3"
  }
 },
 "nbformat": 4,
 "nbformat_minor": 5
}
